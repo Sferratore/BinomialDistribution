{
 "cells": [
  {
   "cell_type": "code",
   "execution_count": 37,
   "id": "9805a9b4-b18e-433b-a56c-bb1b19263bd6",
   "metadata": {},
   "outputs": [],
   "source": [
    "import numpy as np\n",
    "np.random.seed(23) #Creating the seed for value pseudogeneration"
   ]
  },
  {
   "cell_type": "code",
   "execution_count": 38,
   "id": "4c00ca79-3c99-4069-8a04-6a4555700c57",
   "metadata": {},
   "outputs": [],
   "source": [
    "from scipy.stats import binom # Allows us to calculate binomial distribution"
   ]
  },
  {
   "cell_type": "code",
   "execution_count": 39,
   "id": "521793ed-3ff6-47be-acd5-e8f36c81dbf5",
   "metadata": {},
   "outputs": [],
   "source": [
    "import matplotlib.pyplot as plt # Used to draw graphs"
   ]
  },
  {
   "cell_type": "code",
   "execution_count": 40,
   "id": "d5702f99-eed3-425d-b4be-16ac73f4e5ec",
   "metadata": {},
   "outputs": [],
   "source": [
    "# Representation of the problem\n",
    "n = 20  # 20 tentatives\n",
    "p = 0.2  # Probability of the event to happen for each tentative\n",
    "\n",
    "k = np.arange(0,n+1,1) # Number of occurencies of the event, starting from 0 to 20 taking steps of length 1."
   ]
  },
  {
   "cell_type": "markdown",
   "id": "52c163cb-9edd-4d08-9a78-ad5430c03304",
   "metadata": {},
   "source": [
    "\"binom.pmf\" returns an array with values of the binomial distribution, so we can see each probability of \"happening\" of the event in the range of k. We can see what is the probability it happens once, twice, thrice ... 20 times."
   ]
  },
  {
   "cell_type": "code",
   "execution_count": 41,
   "id": "be672f5a-d224-4172-a406-623fe7899f48",
   "metadata": {},
   "outputs": [
    {
     "data": {
      "text/plain": [
       "array([1.15292150e-02, 5.76460752e-02, 1.36909429e-01, 2.05364143e-01,\n",
       "       2.18199402e-01, 1.74559522e-01, 1.09099701e-01, 5.45498505e-02,\n",
       "       2.21608768e-02, 7.38695892e-03, 2.03141370e-03, 4.61684933e-04,\n",
       "       8.65659248e-05, 1.33178346e-05, 1.66472932e-06, 1.66472932e-07,\n",
       "       1.30056978e-08, 7.65041050e-10, 3.18767104e-11, 8.38860800e-13,\n",
       "       1.04857600e-14])"
      ]
     },
     "execution_count": 41,
     "metadata": {},
     "output_type": "execute_result"
    }
   ],
   "source": [
    "binom.pmf(k = k, n = n, p = p)  # Not assigning to let you see the values underneath"
   ]
  },
  {
   "cell_type": "code",
   "execution_count": 42,
   "id": "d2eb2248-c6ee-47af-ab03-a4db9ab83894",
   "metadata": {},
   "outputs": [],
   "source": [
    "probab = binom.pmf(k = k, n = n, p = p) "
   ]
  },
  {
   "cell_type": "code",
   "execution_count": 43,
   "id": "1f284984-7877-46e6-ba8b-08f16e6a0501",
   "metadata": {},
   "outputs": [
    {
     "data": {
      "text/plain": [
       "<matplotlib.collections.PathCollection at 0x19baea3d820>"
      ]
     },
     "execution_count": 43,
     "metadata": {},
     "output_type": "execute_result"
    },
    {
     "data": {
      "image/png": "[encoded data removed]",
      "text/plain": [
       "<Figure size 640x480 with 1 Axes>"
      ]
     },
     "metadata": {},
     "output_type": "display_data"
    }
   ],
   "source": [
    "plt.scatter(k, probab) # Creating the graph with k on the x axis and the equivalent probability on y."
   ]
  },
  {
   "cell_type": "code",
   "execution_count": 44,
   "id": "6698e0d9-b4f8-4b1e-8129-c2a16ca1abbd",
   "metadata": {},
   "outputs": [
    {
     "data": {
      "text/plain": [
       "1.0000000000000009"
      ]
     },
     "execution_count": 44,
     "metadata": {},
     "output_type": "execute_result"
    }
   ],
   "source": [
    "probab.sum() # Probability converges to 1. It's correct."
   ]
  },
  {
   "cell_type": "markdown",
   "id": "c9228bd0-390e-4d31-b197-89de341e1697",
   "metadata": {},
   "source": [
    "The np.random.binomial(n, p, size) function is an important function of the NumPy module in Python and is used to generate random numbers from a binomial distribution. In this specific case, np.random.binomial(n=3, p=0.6, size=20) generates an array of 20 random numbers from a binomial distribution with the following parameters:\r\n",
    "\r\n",
    "n: Number of trials or attempts.\r\n",
    "p: Probability of success on each trial.\r\n",
    "size: Number of elements in the resulting array.\r\n",
    "So, for each element in the array, the function will return the number of successes in 3 trials, where each trial has a success probability of 60%. The resulting array will contain 20 such randomly generated values."
   ]
  },
  {
   "cell_type": "code",
   "execution_count": null,
   "id": "d709dd8a-155e-494b-950c-41426f4d0d53",
   "metadata": {},
   "outputs": [],
   "source": [
    "np.random.binomial(n = 3, p = 0.6, size = 20)"
   ]
  },
  {
   "cell_type": "code",
   "execution_count": null,
   "id": "67751718-608d-4b88-b3ca-5aff7e59a5a4",
   "metadata": {},
   "outputs": [],
   "source": []
  }
 ],
 "metadata": {
  "kernelspec": {
   "display_name": "Python 3 (ipykernel)",
   "language": "python",
   "name": "python3"
  },
  "language_info": {
   "codemirror_mode": {
    "name": "ipython",
    "version": 3
   },
   "file_extension": ".py",
   "mimetype": "text/x-python",
   "name": "python",
   "nbconvert_exporter": "python",
   "pygments_lexer": "ipython3",
   "version": "3.12.0"
  }
 },
 "nbformat": 4,
 "nbformat_minor": 5
}
