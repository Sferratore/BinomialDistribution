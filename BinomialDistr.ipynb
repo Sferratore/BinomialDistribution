{
 "cells": [
  {
   "cell_type": "code",
   "execution_count": 6,
   "id": "9805a9b4-b18e-433b-a56c-bb1b19263bd6",
   "metadata": {},
   "outputs": [],
   "source": [
    "import numpy as np\n",
    "np.random.seed(23) #Creating the seed for value pseudogeneration"
   ]
  },
  {
   "cell_type": "code",
   "execution_count": 7,
   "id": "4c00ca79-3c99-4069-8a04-6a4555700c57",
   "metadata": {},
   "outputs": [],
   "source": [
    "from scipy.stats import binom # Allows us to calculate binomial distribution"
   ]
  },
  {
   "cell_type": "code",
   "execution_count": 10,
   "id": "d5702f99-eed3-425d-b4be-16ac73f4e5ec",
   "metadata": {},
   "outputs": [],
   "source": [
    "# Representation of the problem\n",
    "n = 20  # 20 tentatives\n",
    "p = 0.2  # Probability of the event to happen for each tentative\n",
    "\n",
    "k = np.arange(1,n,1) # Number of occurencies of the event, starting from 1 to 19 taking steps of length 1."
   ]
  },
  {
   "cell_type": "markdown",
   "id": "52c163cb-9edd-4d08-9a78-ad5430c03304",
   "metadata": {},
   "source": [
    "\"binom.pmf\" returns an array with values of the binomial distribution, so we can see each probability of \"happening\" of the event in the range of k. We can see what is the probability it happens once, twice, thrice ... 19 times."
   ]
  },
  {
   "cell_type": "code",
   "execution_count": 9,
   "id": "be672f5a-d224-4172-a406-623fe7899f48",
   "metadata": {},
   "outputs": [
    {
     "data": {
      "text/plain": [
       "array([5.76460752e-02, 1.36909429e-01, 2.05364143e-01, 2.18199402e-01,\n",
       "       1.74559522e-01, 1.09099701e-01, 5.45498505e-02, 2.21608768e-02,\n",
       "       7.38695892e-03, 2.03141370e-03, 4.61684933e-04, 8.65659248e-05,\n",
       "       1.33178346e-05, 1.66472932e-06, 1.66472932e-07, 1.30056978e-08,\n",
       "       7.65041050e-10, 3.18767104e-11, 8.38860800e-13])"
      ]
     },
     "execution_count": 9,
     "metadata": {},
     "output_type": "execute_result"
    }
   ],
   "source": [
    "binom.pmf(k = k, n = n, p = p) "
   ]
  },
  {
   "cell_type": "code",
   "execution_count": null,
   "id": "d2eb2248-c6ee-47af-ab03-a4db9ab83894",
   "metadata": {},
   "outputs": [],
   "source": []
  }
 ],
 "metadata": {
  "kernelspec": {
   "display_name": "Python 3 (ipykernel)",
   "language": "python",
   "name": "python3"
  },
  "language_info": {
   "codemirror_mode": {
    "name": "ipython",
    "version": 3
   },
   "file_extension": ".py",
   "mimetype": "text/x-python",
   "name": "python",
   "nbconvert_exporter": "python",
   "pygments_lexer": "ipython3",
   "version": "3.12.0"
  }
 },
 "nbformat": 4,
 "nbformat_minor": 5
}
